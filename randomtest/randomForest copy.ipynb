{
 "cells": [
  {
   "cell_type": "code",
   "execution_count": 1,
   "metadata": {},
   "outputs": [],
   "source": [
    "import mplfinance as mpf\n",
    "from mplfinance.original_flavor import candlestick_ohlc\n",
    "import pandas as pd\n",
    "from tvDatafeed import TvDatafeed,Interval\n",
    "import numpy as np"
   ]
  },
  {
   "cell_type": "code",
   "execution_count": 2,
   "metadata": {},
   "outputs": [
    {
     "name": "stderr",
     "output_type": "stream",
     "text": [
      "you are using nologin method, data you access may be limited\n"
     ]
    }
   ],
   "source": [
    "tv = TvDatafeed()\n",
    "niftydf = tv.get_hist(symbol='NIFTY_50', exchange='NSE', interval=Interval.in_daily,n_bars=1000)"
   ]
  },
  {
   "cell_type": "code",
   "execution_count": 3,
   "metadata": {},
   "outputs": [],
   "source": [
    "x = niftydf.index.values.astype('datetime64[s]')\n",
    "x = [[int(i.item().year), int(i.item().day), int(i.item().month), int(i.item().hour), int(i.item().minute), int(i.item().second)] for i in x]\n",
    "x = np.array(x)\n",
    "y = niftydf.iloc[:,-2].values"
   ]
  },
  {
   "cell_type": "code",
   "execution_count": 4,
   "metadata": {},
   "outputs": [],
   "source": [
    "# from sklearn.preprocessing import StandardScaler\n",
    "# scaler = StandardScaler()\n"
   ]
  },
  {
   "cell_type": "code",
   "execution_count": 5,
   "metadata": {},
   "outputs": [],
   "source": [
    "from sklearn.model_selection import train_test_split\n",
    "x_train, x_test, y_train, y_test = train_test_split(x, y, test_size=0.2, random_state=120)"
   ]
  },
  {
   "cell_type": "code",
   "execution_count": 6,
   "metadata": {},
   "outputs": [],
   "source": [
    "y_train = scaler.fit_transform(y_train.reshape(-1, 1)).reshape(-1)\n",
    "y_test = scaler.transform(y_test.reshape(-1, 1)).reshape(-1)"
   ]
  },
  {
   "cell_type": "code",
   "execution_count": 7,
   "metadata": {},
   "outputs": [],
   "source": [
    "from sklearn.ensemble import RandomForestRegressor\n",
    "model = RandomForestRegressor(n_estimators=100, random_state=120)"
   ]
  },
  {
   "cell_type": "code",
   "execution_count": 8,
   "metadata": {},
   "outputs": [
    {
     "data": {
      "text/plain": [
       "RandomForestRegressor(random_state=120)"
      ]
     },
     "execution_count": 8,
     "metadata": {},
     "output_type": "execute_result"
    }
   ],
   "source": [
    "model.fit(x_train, y_train)"
   ]
  },
  {
   "cell_type": "code",
   "execution_count": 9,
   "metadata": {},
   "outputs": [
    {
     "data": {
      "text/plain": [
       "0.9941652538794704"
      ]
     },
     "execution_count": 9,
     "metadata": {},
     "output_type": "execute_result"
    }
   ],
   "source": [
    "from sklearn.metrics import r2_score\n",
    "r2_score(y_test, model.predict(x_test))"
   ]
  },
  {
   "cell_type": "code",
   "execution_count": 10,
   "metadata": {},
   "outputs": [],
   "source": [
    "apple = tv.get_hist(symbol='AAPL', exchange='NASDAQ', interval=Interval.in_daily,n_bars=1000)"
   ]
  },
  {
   "cell_type": "code",
   "execution_count": null,
   "metadata": {},
   "outputs": [],
   "source": [
    "x_2 = apple.index.values.astype('datetime64[s]')\n",
    "x_2 = [[int(i.item().year), int(i.item().day), int(i.item().month), int(i.item().hour), int(i.item().minute), int(i.item().second)] for i in x_2]\n",
    "x_2 = np.array(x_2)\n",
    "y_2 = apple.iloc[:,-2].values"
   ]
  },
  {
   "cell_type": "code",
   "execution_count": null,
   "metadata": {},
   "outputs": [],
   "source": []
  },
  {
   "cell_type": "code",
   "execution_count": 11,
   "metadata": {},
   "outputs": [],
   "source": [
    "# x_2 = apple.index.values.astype('datetime64[s]')\n",
    "# x_2 = [[int(i.item().year), int(i.item().day), int(i.item().month), int(i.item().hour), int(i.item().minute), int(i.item().second)] for i in x_2]\n",
    "# x_2 = np.array(x_2)\n",
    "# y_2 = apple.iloc[:,-2].values"
   ]
  },
  {
   "cell_type": "code",
   "execution_count": 12,
   "metadata": {},
   "outputs": [],
   "source": [
    "# from sklearn.model_selection import train_test_split\n",
    "# x_train_2, x_test_2, y_train_2, y_test_2 = train_test_split(x_2, y_2, test_size=0.2, random_state=120)"
   ]
  },
  {
   "cell_type": "code",
   "execution_count": 13,
   "metadata": {},
   "outputs": [],
   "source": [
    "# len(y_train)"
   ]
  },
  {
   "cell_type": "code",
   "execution_count": 14,
   "metadata": {},
   "outputs": [],
   "source": [
    "# scaler.fit(np.concatenate((y_train, y_train_2), axis=0).reshape(-1, 1))\n",
    "# y_train_2 = scaler.fit_transform(y_train_2.reshape(-1, 1)).reshape(-1)\n",
    "# y_test_2 = scaler.transform(y_test_2.reshape(-1, 1)).reshape(-1)"
   ]
  },
  {
   "cell_type": "code",
   "execution_count": 15,
   "metadata": {},
   "outputs": [],
   "source": [
    "# len(np.concatenate((y_train, y_train_2), axis=0))"
   ]
  },
  {
   "cell_type": "code",
   "execution_count": 16,
   "metadata": {},
   "outputs": [],
   "source": [
    "# model.fit(np.concatenate((x_train, x_train_2), axis=0), np.concatenate((y_train, y_train_2), axis=0))"
   ]
  },
  {
   "cell_type": "code",
   "execution_count": 17,
   "metadata": {},
   "outputs": [],
   "source": [
    "# r2_score(y_test_2, model.predict(x_test_2))"
   ]
  },
  {
   "cell_type": "code",
   "execution_count": 18,
   "metadata": {},
   "outputs": [],
   "source": [
    "# cartrade = tv.get_hist(symbol='CARTRADE', exchange='NSE', interval=Interval.in_daily,n_bars=1000)\n"
   ]
  },
  {
   "cell_type": "code",
   "execution_count": 19,
   "metadata": {},
   "outputs": [],
   "source": [
    "# x_3 = apple.index.values.astype('datetime64[s]')\n",
    "# x_3 = [[int(i.item().year), int(i.item().day), int(i.item().month), int(i.item().hour), int(i.item().minute), int(i.item().second)] for i in x_3]\n",
    "# x_3 = np.array(x_3)\n",
    "# y_3 = apple.iloc[:,-2].values\n",
    "# from sklearn.model_selection import train_test_split\n",
    "# x_train_3, x_test_3, y_train_3, y_test_3 = train_test_split(x_3, y_3, test_size=0.2, random_state=120)\n",
    "# len(y_train)\n",
    "# scaler.fit(np.concatenate((y_train, y_train_2, y_train_3), axis=0).reshape(-1, 1))\n",
    "# y_train_3 = scaler.fit_transform(y_train_3.reshape(-1, 1)).reshape(-1)\n",
    "# y_test_3 = scaler.transform(y_test_3.reshape(-1, 1)).reshape(-1)\n",
    "# # len(np.concatenate((y_train, y_train_2), axis=0))"
   ]
  },
  {
   "cell_type": "code",
   "execution_count": 20,
   "metadata": {},
   "outputs": [],
   "source": [
    "# np.concatenate((y_train, y_train_2, y_train_3), axis=0)\n",
    "# np.concatenate((x_train, x_train_2, x_train_3), axis=0)"
   ]
  },
  {
   "cell_type": "code",
   "execution_count": 21,
   "metadata": {},
   "outputs": [],
   "source": [
    "# model.fit(np.concatenate((x_train, x_train_2, x_train_3), axis=0), np.concatenate((y_train, y_train_2, y_train_2), axis=0))\n",
    "# r2_score(y_test_3, model.predict(x_test_3))"
   ]
  },
  {
   "cell_type": "code",
   "execution_count": 22,
   "metadata": {},
   "outputs": [],
   "source": [
    "# cartrade = tv.get_hist(symbol='CARTRADE', exchange='NSE', interval=Interval.in_daily,n_bars=1000)\n",
    "# "
   ]
  }
 ],
 "metadata": {
  "interpreter": {
   "hash": "73714c336d73dc0ce60cb21610548fc50d263088e9be5aadf36e586d9d29a776"
  },
  "kernelspec": {
   "display_name": "Python 3.10.1 ('venv': venv)",
   "language": "python",
   "name": "python3"
  },
  "language_info": {
   "codemirror_mode": {
    "name": "ipython",
    "version": 3
   },
   "file_extension": ".py",
   "mimetype": "text/x-python",
   "name": "python",
   "nbconvert_exporter": "python",
   "pygments_lexer": "ipython3",
   "version": "3.10.1"
  },
  "orig_nbformat": 4
 },
 "nbformat": 4,
 "nbformat_minor": 2
}
