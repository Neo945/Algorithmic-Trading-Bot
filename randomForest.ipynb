{
 "cells": [
  {
   "cell_type": "code",
   "execution_count": 1,
   "metadata": {},
   "outputs": [],
   "source": [
    "import mplfinance as mpf\n",
    "from mplfinance.original_flavor import candlestick_ohlc\n",
    "import pandas as pd\n",
    "from tvDatafeed import TvDatafeed,Interval\n",
    "import numpy as np"
   ]
  },
  {
   "cell_type": "code",
   "execution_count": 2,
   "metadata": {},
   "outputs": [
    {
     "name": "stderr",
     "output_type": "stream",
     "text": [
      "you are using nologin method, data you access may be limited\n"
     ]
    }
   ],
   "source": [
    "tv = TvDatafeed()"
   ]
  },
  {
   "cell_type": "code",
   "execution_count": 3,
   "metadata": {},
   "outputs": [],
   "source": [
    "niftydf = tv.get_hist(symbol='NIFTY_50', exchange='NSE', interval=Interval.in_daily,n_bars=500)"
   ]
  },
  {
   "cell_type": "code",
   "execution_count": 4,
   "metadata": {},
   "outputs": [],
   "source": [
    "x = niftydf.index.values.astype('datetime64[D]')"
   ]
  },
  {
   "cell_type": "code",
   "execution_count": 5,
   "metadata": {},
   "outputs": [],
   "source": [
    "x = [[int(i.item().year), int(i.item().day), int(i.item().month)] for i in x]"
   ]
  },
  {
   "cell_type": "code",
   "execution_count": 6,
   "metadata": {},
   "outputs": [
    {
     "data": {
      "text/plain": [
       "array([[2020,   19,    3],\n",
       "       [2020,   20,    3],\n",
       "       [2020,   23,    3],\n",
       "       ...,\n",
       "       [2022,   21,    3],\n",
       "       [2022,   22,    3],\n",
       "       [2022,   23,    3]])"
      ]
     },
     "execution_count": 6,
     "metadata": {},
     "output_type": "execute_result"
    }
   ],
   "source": [
    "x = np.array(x)\n",
    "x"
   ]
  },
  {
   "cell_type": "code",
   "execution_count": 7,
   "metadata": {},
   "outputs": [],
   "source": [
    "y = niftydf.iloc[:,-2].values"
   ]
  },
  {
   "cell_type": "code",
   "execution_count": 8,
   "metadata": {},
   "outputs": [],
   "source": [
    "from sklearn.model_selection import train_test_split\n",
    "x_train, x_test, y_train, y_test = train_test_split(x, y, test_size=0.2, random_state=120)"
   ]
  },
  {
   "cell_type": "code",
   "execution_count": 9,
   "metadata": {},
   "outputs": [],
   "source": [
    "from sklearn.ensemble import RandomForestRegressor\n",
    "model = RandomForestRegressor(n_estimators=100, random_state=120)"
   ]
  },
  {
   "cell_type": "code",
   "execution_count": 10,
   "metadata": {},
   "outputs": [
    {
     "data": {
      "text/plain": [
       "RandomForestRegressor(random_state=120)"
      ]
     },
     "execution_count": 10,
     "metadata": {},
     "output_type": "execute_result"
    }
   ],
   "source": [
    "model.fit(x_train, y_train)"
   ]
  },
  {
   "cell_type": "code",
   "execution_count": 11,
   "metadata": {},
   "outputs": [
    {
     "data": {
      "text/plain": [
       "0.9969612361766708"
      ]
     },
     "execution_count": 11,
     "metadata": {},
     "output_type": "execute_result"
    }
   ],
   "source": [
    "from sklearn.metrics import r2_score\n",
    "r2_score(y_test, model.predict(x_test))"
   ]
  },
  {
   "cell_type": "code",
   "execution_count": 12,
   "metadata": {},
   "outputs": [
    {
     "name": "stdout",
     "output_type": "stream",
     "text": [
      "Training Score:  0.999560245695238\n",
      "Testing Score:  0.9969612361766708\n"
     ]
    }
   ],
   "source": [
    "train_score = model.score(x_train, y_train)\n",
    "print(\"Training Score: \", train_score)\n",
    "\n",
    "test_score = model.score(x_test, y_test)\n",
    "print(\"Testing Score: \", test_score)"
   ]
  },
  {
   "cell_type": "code",
   "execution_count": 13,
   "metadata": {},
   "outputs": [],
   "source": [
    "y_pred = model.predict(x_test)"
   ]
  },
  {
   "cell_type": "code",
   "execution_count": 14,
   "metadata": {},
   "outputs": [
    {
     "name": "stdout",
     "output_type": "stream",
     "text": [
      "[[17368.48117  17516.85    ]\n",
      " [17136.12215  17315.5     ]\n",
      " [17328.005    17377.801   ]\n",
      " [14546.1225   14433.7     ]\n",
      " [14481.1785   14563.45    ]\n",
      " [16249.91198  16605.949   ]\n",
      " [17391.67488  16842.801   ]\n",
      " [15734.366    15814.7     ]\n",
      " [ 9186.181832  9314.9502  ]\n",
      " [14945.6345   14929.5     ]\n",
      " [18091.39757  18114.9     ]\n",
      " [12907.3845   12968.95    ]\n",
      " [16238.92193  16498.051   ]\n",
      " [12907.3845   12987.      ]\n",
      " [12653.0475   12749.15    ]\n",
      " [17357.02772  17369.25    ]\n",
      " [17136.12215  17245.65    ]\n",
      " [17533.23957  17415.051   ]\n",
      " [10963.0835   11022.2     ]\n",
      " [17628.1852   17546.65    ]\n",
      " [11268.06     11153.65    ]\n",
      " [18287.28905  18266.6     ]\n",
      " [14691.181    14761.55    ]\n",
      " [14805.15     14919.1     ]\n",
      " [17069.79965  17469.75    ]\n",
      " [15035.614    15030.95    ]\n",
      " [13600.513    13558.15    ]\n",
      " [17201.11339  17354.051   ]\n",
      " [ 9145.862878  9383.5498  ]\n",
      " [14785.7185   14675.7     ]\n",
      " [15736.078    15834.35    ]\n",
      " [18103.23983  17857.25    ]\n",
      " [17311.93795  17324.9     ]\n",
      " [15825.309    15923.4     ]\n",
      " [17328.005    17362.1     ]\n",
      " [16062.16701  16130.75    ]\n",
      " [14734.557    14823.15    ]\n",
      " [ 9986.731752 10091.65    ]\n",
      " [15765.2505   15879.65    ]\n",
      " [10626.161    10802.7     ]\n",
      " [11191.085    11214.05    ]\n",
      " [11270.262    11300.45    ]\n",
      " [18236.11463  18477.051   ]\n",
      " [17206.389    17277.949   ]\n",
      " [11259.678    11222.4     ]\n",
      " [16865.25233  17003.75    ]\n",
      " [12543.9495   12461.05    ]\n",
      " [15001.179    14906.05    ]\n",
      " [14827.988    15097.35    ]\n",
      " [17138.36016  17117.6     ]\n",
      " [14586.219    14324.9     ]\n",
      " [13484.2535   13513.85    ]\n",
      " [17069.79965  17176.699   ]\n",
      " [11548.0905   11559.25    ]\n",
      " [15065.232    15080.75    ]\n",
      " [ 8991.623586  8748.75    ]\n",
      " [10331.283    10302.1     ]\n",
      " [17254.40995  17221.4     ]\n",
      " [14437.8525   14504.8     ]\n",
      " [17312.97175  17276.301   ]\n",
      " [14163.2505   14347.25    ]\n",
      " [11259.678    11247.55    ]\n",
      " [16348.44855  16529.1     ]\n",
      " [ 9253.739742  9154.4004  ]\n",
      " [11843.28     11729.6     ]\n",
      " [11160.7985   11132.6     ]\n",
      " [15704.9015   15689.8     ]\n",
      " [18083.10969  17991.949   ]\n",
      " [17930.37689  18068.551   ]\n",
      " [ 8376.560378  8253.7998  ]\n",
      " [14490.505    14644.7     ]\n",
      " [17684.0084   17576.85    ]\n",
      " [ 8991.02759   9111.9004  ]\n",
      " [14374.019    14521.15    ]\n",
      " [17215.8604   17086.25    ]\n",
      " [11136.975    11162.25    ]\n",
      " [16865.25233  17072.6     ]\n",
      " [11370.181    11278.      ]\n",
      " [11315.5675   11466.45    ]\n",
      " [11581.8295   11387.5     ]\n",
      " [15757.7835   15763.05    ]\n",
      " [11592.1225   11662.4     ]\n",
      " [ 9168.59491   8981.4502  ]\n",
      " [ 9012.615328  8992.7998  ]\n",
      " [14084.799    13634.6     ]\n",
      " [14084.799    13817.55    ]\n",
      " [11741.5275   11738.85    ]\n",
      " [15754.743    15721.5     ]\n",
      " [17378.38783  17322.199   ]\n",
      " [17627.62437  17711.301   ]\n",
      " [14818.4455   14631.1     ]\n",
      " [11819.395    11914.2     ]\n",
      " [17997.43197  18017.199   ]\n",
      " [11474.4085   11333.85    ]\n",
      " [17145.46949  17206.65    ]\n",
      " [15280.0615   15337.85    ]\n",
      " [14796.1675   14894.9     ]\n",
      " [ 8104.146116  8745.4502  ]\n",
      " [ 9114.466344  9261.8496  ]\n",
      " [17180.339    17101.949   ]]\n"
     ]
    }
   ],
   "source": [
    "print(np.concatenate((y_pred.reshape(len(y_pred),1), y_test.reshape(len(y_test),1)),1))"
   ]
  },
  {
   "cell_type": "code",
   "execution_count": 15,
   "metadata": {},
   "outputs": [],
   "source": [
    "val = np.concatenate((y_pred.reshape(len(y_pred),1), y_test.reshape(len(y_test),1)),1)"
   ]
  },
  {
   "cell_type": "code",
   "execution_count": 16,
   "metadata": {},
   "outputs": [
    {
     "data": {
      "text/plain": [
       "array([-0.85424182, -1.04678205, -0.28737295,  0.7728692 , -0.5681271 ,\n",
       "       -2.19100891,  3.15595757, -0.51056395, -1.40176158,  0.1079546 ,\n",
       "       -0.12990942, -0.4769789 , -1.59572828, -0.61682132, -0.75952058,\n",
       "       -0.0704169 , -0.63916357,  0.6740829 , -0.53923242,  0.46252748,\n",
       "        1.01534781,  0.1131335 , -0.47898804, -0.76966461, -2.34302896,\n",
       "        0.03101968,  0.3114809 , -0.8891146 , -2.59884633,  0.74408626,\n",
       "       -0.62450123,  1.35881661, -0.07487348, -0.61983624, -0.19676241,\n",
       "       -0.42698467, -0.60126002, -1.05057641, -0.7256434 , -1.66136199,\n",
       "       -0.20520798, -0.26785535, -1.32120452, -0.41589203,  0.33107519,\n",
       "       -0.82120129,  0.6608724 ,  0.63414349, -1.81657822,  0.12113271,\n",
       "        1.79154721, -0.21948935, -0.62624842, -0.09663502, -0.10300538,\n",
       "        2.70110936,  0.28247218,  0.19131312, -0.46369431,  0.21181083,\n",
       "       -1.29913327,  0.10771178, -1.10500669,  1.07350482,  0.95986923,\n",
       "        0.25265665,  0.09615788,  0.50412065, -0.77061464,  1.4655249 ,\n",
       "       -1.0641106 ,  0.60596216, -1.34437147, -1.02358985,  0.75285462,\n",
       "       -0.22694672, -1.22943711,  0.81072588, -1.33340639,  1.67788258,\n",
       "       -0.03342158, -0.60625222,  2.04114929,  0.21986435,  3.19634664,\n",
       "        1.89742857,  0.02280368,  0.21100312,  0.32332591, -0.47469034,\n",
       "        1.26427229, -0.80211381, -0.1098325 ,  1.22497382, -0.35683193,\n",
       "       -0.37819547, -0.66728428, -7.91328383, -1.61702562,  0.45627738])"
      ]
     },
     "execution_count": 16,
     "metadata": {},
     "output_type": "execute_result"
    }
   ],
   "source": [
    "np.apply_along_axis(lambda j: (j[0] - j[1]) * 100 / j[0], 1, val)"
   ]
  },
  {
   "cell_type": "code",
   "execution_count": 17,
   "metadata": {},
   "outputs": [
    {
     "data": {
      "text/html": [
       "<div>\n",
       "<style scoped>\n",
       "    .dataframe tbody tr th:only-of-type {\n",
       "        vertical-align: middle;\n",
       "    }\n",
       "\n",
       "    .dataframe tbody tr th {\n",
       "        vertical-align: top;\n",
       "    }\n",
       "\n",
       "    .dataframe thead th {\n",
       "        text-align: right;\n",
       "    }\n",
       "</style>\n",
       "<table border=\"1\" class=\"dataframe\">\n",
       "  <thead>\n",
       "    <tr style=\"text-align: right;\">\n",
       "      <th></th>\n",
       "      <th>symbol</th>\n",
       "      <th>open</th>\n",
       "      <th>high</th>\n",
       "      <th>low</th>\n",
       "      <th>close</th>\n",
       "      <th>volume</th>\n",
       "    </tr>\n",
       "    <tr>\n",
       "      <th>datetime</th>\n",
       "      <th></th>\n",
       "      <th></th>\n",
       "      <th></th>\n",
       "      <th></th>\n",
       "      <th></th>\n",
       "      <th></th>\n",
       "    </tr>\n",
       "  </thead>\n",
       "  <tbody>\n",
       "    <tr>\n",
       "      <th>2022-03-23 20:29:00</th>\n",
       "      <td>NYSE:ALL</td>\n",
       "      <td>136.17</td>\n",
       "      <td>136.17</td>\n",
       "      <td>136.17</td>\n",
       "      <td>136.17</td>\n",
       "      <td>30.0</td>\n",
       "    </tr>\n",
       "  </tbody>\n",
       "</table>\n",
       "</div>"
      ],
      "text/plain": [
       "                       symbol    open    high     low   close  volume\n",
       "datetime                                                             \n",
       "2022-03-23 20:29:00  NYSE:ALL  136.17  136.17  136.17  136.17    30.0"
      ]
     },
     "execution_count": 17,
     "metadata": {},
     "output_type": "execute_result"
    }
   ],
   "source": [
    "tv.get_hist(symbol='ALL',exchange='NYSE',interval=Interval.in_1_minute, n_bars=1)"
   ]
  }
 ],
 "metadata": {
  "interpreter": {
   "hash": "73714c336d73dc0ce60cb21610548fc50d263088e9be5aadf36e586d9d29a776"
  },
  "kernelspec": {
   "display_name": "Python 3.10.1 ('venv': venv)",
   "language": "python",
   "name": "python3"
  },
  "language_info": {
   "codemirror_mode": {
    "name": "ipython",
    "version": 3
   },
   "file_extension": ".py",
   "mimetype": "text/x-python",
   "name": "python",
   "nbconvert_exporter": "python",
   "pygments_lexer": "ipython3",
   "version": "3.10.1"
  },
  "orig_nbformat": 4
 },
 "nbformat": 4,
 "nbformat_minor": 2
}
